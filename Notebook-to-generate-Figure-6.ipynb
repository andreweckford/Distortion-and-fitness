{
 "cells": [
  {
   "cell_type": "code",
   "execution_count": 1,
   "id": "b197711e",
   "metadata": {},
   "outputs": [],
   "source": [
    "import numpy as np\n",
    "import matplotlib.pyplot as plt\n",
    "from scipy.linalg import inv,pinv,null_space\n",
    "from RateDistortion import *"
   ]
  },
  {
   "cell_type": "code",
   "execution_count": 2,
   "id": "585053ec",
   "metadata": {},
   "outputs": [],
   "source": [
    "R = np.array([[2,0],[1,1]])\n",
    "S2 = np.array([[0.9,0.1],[0.1,0.9]])\n",
    "S3 = np.array([[0.6,0.4],[0.4,0.6]])\n",
    "px = np.array([0.8,0.2])"
   ]
  },
  {
   "cell_type": "code",
   "execution_count": null,
   "id": "9122c483",
   "metadata": {},
   "outputs": [],
   "source": [
    "dxy2 = getFullDistortionFunction(R,S2)\n",
    "r2 = getRD(px,dxy2,numPoints=4000)\n",
    "dxy3 = getFullDistortionFunction(R,S3)\n",
    "r3 = getRD(px,dxy3,numPoints=4000)"
   ]
  },
  {
   "cell_type": "code",
   "execution_count": null,
   "id": "b538bd60",
   "metadata": {},
   "outputs": [],
   "source": [
    "# A seed is set so that the results are reproducible\n",
    "# Change the seed to see different random instances\n",
    "g = np.random.default_rng(seed=1)\n",
    "\n",
    "numPoints = 4000\n",
    "opPoints = np.zeros((4,numPoints))\n",
    "for i in range(numPoints):\n",
    "  #aaa = 0.5*g.uniform()\n",
    "  #bbb = 0.5*g.uniform()\n",
    "  pygx = g.uniform(size=(2,2))\n",
    "  for j in [0,1]:\n",
    "    pygx[:,j] = pygx[:,j] / np.sum(pygx[:,j]) # columns must sum to 1\n",
    "  pxy = pygx @ np.diag(px)\n",
    "\n",
    "  opPoints[2,i] = np.sum(dxy2 * pxy)\n",
    "  opPoints[3,i] = np.sum(dxy3 * pxy)\n",
    "  opPoints[0,i] = MI(pxy)"
   ]
  },
  {
   "cell_type": "code",
   "execution_count": null,
   "id": "60f30e08",
   "metadata": {},
   "outputs": [],
   "source": [
    "# line for the bound\n",
    "dmin = -0.5\n",
    "dmax = -0.1\n",
    "\n",
    "Qinv = np.diag(inv(R) @ np.ones(np.shape(R)[0]))\n",
    "Q = inv(Qinv)\n",
    "\n",
    "L = getAvgLambdaStar(Q,px)\n",
    "D_v = np.array([dmin,dmax])\n",
    "B_v = hx(px) - D_v - L\n",
    "\n",
    "plt.plot(opPoints[2,:],opPoints[0,:],linestyle='',\n",
    "         marker='.',markersize=1,color='#ff9999',label='$S_1$, Random channels')\n",
    "plt.plot(r2['Dmax_v'],r2['r_v'],linestyle='-',\n",
    "         color='#cc4444',label='$S_1$, $R(D)$')\n",
    "\n",
    "plt.plot(opPoints[3,:],opPoints[0,:],linestyle='',\n",
    "         marker='.',markersize=1,color='#9999ff',label='$S_2$, Random channels')\n",
    "plt.plot(r3['Dmax_v'],r3['r_v'],linestyle='-',\n",
    "         color='#4444cc',label='$S_2$, $R(D)$')\n",
    "\n",
    "plt.plot(D_v,B_v,linestyle='--',linewidth=1,color='#777777',label='Bound')\n",
    "\n",
    "plt.xlabel('Average distortion $D$')\n",
    "plt.ylabel('Rate (nats/source symbol)')\n",
    "plt.axis([-0.35,-0.18,-0.01,0.21])\n",
    "\n",
    "\n",
    "plt.legend(fontsize='small')\n",
    "\n",
    "plt.gca().set_aspect(1/plt.gca().get_data_ratio())\n",
    "plt.savefig('Figure6.pdf',bbox_inches='tight')"
   ]
  },
  {
   "cell_type": "code",
   "execution_count": null,
   "id": "aa143c96",
   "metadata": {},
   "outputs": [],
   "source": []
  }
 ],
 "metadata": {
  "kernelspec": {
   "display_name": "Python 3 (ipykernel)",
   "language": "python",
   "name": "python3"
  },
  "language_info": {
   "codemirror_mode": {
    "name": "ipython",
    "version": 3
   },
   "file_extension": ".py",
   "mimetype": "text/x-python",
   "name": "python",
   "nbconvert_exporter": "python",
   "pygments_lexer": "ipython3",
   "version": "3.7.12"
  }
 },
 "nbformat": 4,
 "nbformat_minor": 5
}
